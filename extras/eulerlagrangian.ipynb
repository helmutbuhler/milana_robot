{
 "cells": [
  {
   "cell_type": "markdown",
   "id": "2270c1a1",
   "metadata": {},
   "source": [
    "# Euler-Lagrangian of a Triple-Pendulum on an Elastic Wheel"
   ]
  },
  {
   "cell_type": "markdown",
   "id": "bcef5032",
   "metadata": {},
   "source": [
    "This is based on the `eulerlagrangian_cartpole` Notebook, but extended to a Triple-Pendulum. This way it models the Milana Robot. The other notebook is much simpler and better commented.\n",
    "\n",
    "This notebook also takes into account the elasticity of the rubber in the wheels. That means the wheel can slightly move without changing its angle when the rubber is elastic enough. I added this because I thought it would explain some oscillations that occured while testing the robot but did not occur in the simulation. And it did so, but only with extreme pid gains and not in normal conditions. So it didn't end up very useful. But I still kept it in because it doesn't hurt."
   ]
  },
  {
   "cell_type": "code",
   "execution_count": 1,
   "id": "d6610f34",
   "metadata": {},
   "outputs": [],
   "source": [
    "from sympy import symbols, diff, simplify, Function\n",
    "from sympy import sin, cos\n",
    "import sympy"
   ]
  },
  {
   "cell_type": "code",
   "execution_count": 2,
   "id": "7e9c5b6c",
   "metadata": {},
   "outputs": [],
   "source": [
    "t = symbols('t')\n",
    "gravity = symbols('g')\n",
    "l1, l2, l3 = symbols('l1, l2, l3')\n",
    "x1, x2, x3 = symbols('x1, x2, x3')\n",
    "m1, m2, m3 = symbols('m1, m2, m3')\n",
    "I1, I2, I3 = symbols('I1, I2, I3')\n",
    "wheel_mass = symbols(\"m\")\n",
    "wheel_inertia = symbols(\"I_w\")\n",
    "rubber_inertia = symbols(\"I_b\")\n",
    "rubber_factor = symbols(\"b_f\")\n",
    "r = symbols('r')\n",
    "\n",
    "wheel_pos = Function('w')(t)\n",
    "wheel_vel = diff(wheel_pos, t)\n",
    "wheel_acc = diff(wheel_vel, t)\n",
    "rubber_pos = Function('ru')(t)\n",
    "rubber_vel = diff(rubber_pos, t)\n",
    "rubber_acc = diff(rubber_vel, t)\n",
    "theta1 = Function('theta_1')(t)\n",
    "theta1_vel = diff(theta1, t)\n",
    "theta1_acc = diff(theta1_vel, t)\n",
    "theta2 = Function('theta_2')(t)\n",
    "theta2_vel = diff(theta2, t)\n",
    "theta2_acc = diff(theta2_vel, t)\n",
    "theta3 = Function('theta_3')(t)\n",
    "theta3_vel = diff(theta3, t)\n",
    "theta3_acc = diff(theta3_vel, t)"
   ]
  },
  {
   "cell_type": "code",
   "execution_count": 3,
   "id": "619c2b10",
   "metadata": {},
   "outputs": [],
   "source": [
    "wheel_pos_ = symbols('q')\n",
    "wheel_vel_ = symbols(\"\\\\dot{q}\")\n",
    "wheel_acc_ = symbols(\"\\\\ddot{q}\")\n",
    "rubber_pos_ = symbols('b')\n",
    "rubber_vel_ = symbols(\"\\\\dot{b}\")\n",
    "rubber_acc_ = symbols(\"\\\\ddot{b}\")\n",
    "theta1_, theta2_, theta3_ = symbols(\"d_1, d_2, d_3\")\n",
    "theta1_vel_, theta2_vel_, theta3_vel_ = symbols(\"\\\\dot{d_1}, \\\\dot{d_2}, \\\\dot{d_3}\")\n",
    "theta1_acc_, theta2_acc_, theta3_acc_ = symbols(\"\\\\ddot{d_1}, \\\\ddot{d_2}, \\\\ddot{d_3}\")\n",
    "def remove_time(v):\n",
    "    return v.subs([\n",
    "        (rubber_acc, rubber_acc_),\n",
    "        (rubber_vel, rubber_vel_),\n",
    "        (rubber_pos, rubber_pos_),\n",
    "        (wheel_acc, wheel_acc_),\n",
    "        (wheel_vel, wheel_vel_),\n",
    "        (wheel_pos, wheel_pos_),\n",
    "        (theta1_acc, theta1_acc_),\n",
    "        (theta2_acc, theta2_acc_),\n",
    "        (theta3_acc, theta3_acc_),\n",
    "        (theta1_vel, theta1_vel_),\n",
    "        (theta2_vel, theta2_vel_),\n",
    "        (theta3_vel, theta3_vel_),\n",
    "        (theta1, theta1_),\n",
    "        (theta2, theta2_),\n",
    "        (theta3, theta3_),\n",
    "    ])"
   ]
  },
  {
   "cell_type": "code",
   "execution_count": 4,
   "id": "c243d285",
   "metadata": {},
   "outputs": [
    {
     "data": {
      "text/latex": [
       "$\\displaystyle \\theta_{1}{\\left(t \\right)} + \\theta_{2}{\\left(t \\right)} + w{\\left(t \\right)} + \\frac{d}{d t} \\operatorname{ru}{\\left(t \\right)} + \\frac{d}{d t} \\theta_{1}{\\left(t \\right)} + \\frac{d^{2}}{d t^{2}} \\theta_{1}{\\left(t \\right)} + \\frac{d}{d t} \\theta_{2}{\\left(t \\right)} + \\frac{d^{2}}{d t^{2}} \\theta_{2}{\\left(t \\right)} + \\frac{d}{d t} w{\\left(t \\right)} + \\frac{d^{2}}{d t^{2}} w{\\left(t \\right)}$"
      ],
      "text/plain": [
       "theta_1(t) + theta_2(t) + w(t) + Derivative(ru(t), t) + Derivative(theta_1(t), t) + Derivative(theta_1(t), (t, 2)) + Derivative(theta_2(t), t) + Derivative(theta_2(t), (t, 2)) + Derivative(w(t), t) + Derivative(w(t), (t, 2))"
      ]
     },
     "execution_count": 4,
     "metadata": {},
     "output_type": "execute_result"
    }
   ],
   "source": [
    "x = theta1 + theta2 + theta1_vel + theta2_vel + theta2_acc + theta1_acc + wheel_pos + wheel_vel + wheel_acc + rubber_vel\n",
    "x"
   ]
  },
  {
   "cell_type": "code",
   "execution_count": 5,
   "id": "cfaeff33",
   "metadata": {},
   "outputs": [
    {
     "data": {
      "text/latex": [
       "$\\displaystyle \\ddot{d_1} + \\ddot{d_2} + \\ddot{q} + \\dot{b} + \\dot{d_1} + \\dot{d_2} + \\dot{q} + d_{1} + d_{2} + q$"
      ],
      "text/plain": [
       "\\ddot{d_1} + \\ddot{d_2} + \\ddot{q} + \\dot{b} + \\dot{d_1} + \\dot{d_2} + \\dot{q} + d_1 + d_2 + q"
      ]
     },
     "execution_count": 5,
     "metadata": {},
     "output_type": "execute_result"
    }
   ],
   "source": [
    "remove_time(x)"
   ]
  },
  {
   "cell_type": "code",
   "execution_count": 6,
   "id": "91227dd1",
   "metadata": {},
   "outputs": [],
   "source": [
    "def sq(v):\n",
    "    return v**2\n",
    "def lagrange():\n",
    "    \n",
    "    th2 = theta2\n",
    "    th3 = theta3\n",
    "    th2_vel = theta2_vel\n",
    "    th3_vel = theta3_vel\n",
    "        \n",
    "    kinE = 0;\n",
    "    kinE += wheel_mass * sq(rubber_vel*r)\n",
    "    kinE += m1 * (sq(rubber_vel*r + x1*theta1_vel*cos(theta1)                                            ) + sq(x1*theta1_vel*sin(theta1)                                            ))\n",
    "    kinE += m2 * (sq(rubber_vel*r + l1*theta1_vel*cos(theta1) + x2*th2_vel*cos(th2)                      ) + sq(l1*theta1_vel*sin(theta1) + x2*th2_vel*sin(th2)                      ))\n",
    "    kinE += m3 * (sq(rubber_vel*r + l1*theta1_vel*cos(theta1) + l2*th2_vel*cos(th2) + x3*th3_vel*cos(th3)) + sq(l1*theta1_vel*sin(theta1) + l2*th2_vel*sin(th2) + x3*th3_vel*sin(th3)))\n",
    "    kinE += rubber_inertia * sq(rubber_vel)\n",
    "    kinE += wheel_inertia * sq(wheel_vel)\n",
    "    kinE += I1 * sq(theta1_vel)\n",
    "    kinE += I2 * sq(theta2_vel)\n",
    "    kinE += I3 * sq(theta3_vel)\n",
    "    kinE /= 2\n",
    "    potE = gravity * (m1*x1*cos(theta1) + m2*(l1*cos(theta1)+x2*cos(th2)) + m3*(l1*cos(theta1)+l2*cos(th2)+x3*cos(th3)));\n",
    "    potE += sq(rubber_pos-wheel_pos)*rubber_factor/2\n",
    "\n",
    "    return kinE-potE"
   ]
  },
  {
   "cell_type": "code",
   "execution_count": 7,
   "id": "f068c89e",
   "metadata": {},
   "outputs": [
    {
     "data": {
      "text/latex": [
       "$\\displaystyle \\frac{I_{1} \\dot{d_1}^{2}}{2} + \\frac{I_{2} \\dot{d_2}^{2}}{2} + \\frac{I_{3} \\dot{d_3}^{2}}{2} + \\frac{I_{b} \\dot{b}^{2}}{2} + \\frac{I_{w} \\dot{q}^{2}}{2} + \\frac{\\dot{b}^{2} m r^{2}}{2} - \\frac{b_{f} \\left(b - q\\right)^{2}}{2} - g \\left(m_{1} x_{1} \\cos{\\left(d_{1} \\right)} + m_{2} \\left(l_{1} \\cos{\\left(d_{1} \\right)} + x_{2} \\cos{\\left(d_{2} \\right)}\\right) + m_{3} \\left(l_{1} \\cos{\\left(d_{1} \\right)} + l_{2} \\cos{\\left(d_{2} \\right)} + x_{3} \\cos{\\left(d_{3} \\right)}\\right)\\right) + \\frac{m_{1} \\left(\\dot{d_1}^{2} x_{1}^{2} \\sin^{2}{\\left(d_{1} \\right)} + \\left(\\dot{b} r + \\dot{d_1} x_{1} \\cos{\\left(d_{1} \\right)}\\right)^{2}\\right)}{2} + \\frac{m_{2} \\left(\\left(\\dot{d_1} l_{1} \\sin{\\left(d_{1} \\right)} + \\dot{d_2} x_{2} \\sin{\\left(d_{2} \\right)}\\right)^{2} + \\left(\\dot{b} r + \\dot{d_1} l_{1} \\cos{\\left(d_{1} \\right)} + \\dot{d_2} x_{2} \\cos{\\left(d_{2} \\right)}\\right)^{2}\\right)}{2} + \\frac{m_{3} \\left(\\left(\\dot{d_1} l_{1} \\sin{\\left(d_{1} \\right)} + \\dot{d_2} l_{2} \\sin{\\left(d_{2} \\right)} + \\dot{d_3} x_{3} \\sin{\\left(d_{3} \\right)}\\right)^{2} + \\left(\\dot{b} r + \\dot{d_1} l_{1} \\cos{\\left(d_{1} \\right)} + \\dot{d_2} l_{2} \\cos{\\left(d_{2} \\right)} + \\dot{d_3} x_{3} \\cos{\\left(d_{3} \\right)}\\right)^{2}\\right)}{2}$"
      ],
      "text/plain": [
       "I1*\\dot{d_1}**2/2 + I2*\\dot{d_2}**2/2 + I3*\\dot{d_3}**2/2 + I_b*\\dot{b}**2/2 + I_w*\\dot{q}**2/2 + \\dot{b}**2*m*r**2/2 - b_f*(b - q)**2/2 - g*(m1*x1*cos(d_1) + m2*(l1*cos(d_1) + x2*cos(d_2)) + m3*(l1*cos(d_1) + l2*cos(d_2) + x3*cos(d_3))) + m1*(\\dot{d_1}**2*x1**2*sin(d_1)**2 + (\\dot{b}*r + \\dot{d_1}*x1*cos(d_1))**2)/2 + m2*((\\dot{d_1}*l1*sin(d_1) + \\dot{d_2}*x2*sin(d_2))**2 + (\\dot{b}*r + \\dot{d_1}*l1*cos(d_1) + \\dot{d_2}*x2*cos(d_2))**2)/2 + m3*((\\dot{d_1}*l1*sin(d_1) + \\dot{d_2}*l2*sin(d_2) + \\dot{d_3}*x3*sin(d_3))**2 + (\\dot{b}*r + \\dot{d_1}*l1*cos(d_1) + \\dot{d_2}*l2*cos(d_2) + \\dot{d_3}*x3*cos(d_3))**2)/2"
      ]
     },
     "execution_count": 7,
     "metadata": {},
     "output_type": "execute_result"
    }
   ],
   "source": [
    "remove_time(lagrange())"
   ]
  },
  {
   "cell_type": "code",
   "execution_count": 8,
   "id": "657f1a76",
   "metadata": {},
   "outputs": [
    {
     "data": {
      "text/latex": [
       "$\\displaystyle I_{b} \\ddot{b} + \\ddot{b} m r^{2} + b_{f} \\left(b - q\\right) + m_{1} r \\left(\\ddot{b} r + \\ddot{d_1} x_{1} \\cos{\\left(d_{1} \\right)} - \\dot{d_1}^{2} x_{1} \\sin{\\left(d_{1} \\right)}\\right) + m_{2} r \\left(\\ddot{b} r + \\ddot{d_1} l_{1} \\cos{\\left(d_{1} \\right)} + \\ddot{d_2} x_{2} \\cos{\\left(d_{2} \\right)} - \\dot{d_1}^{2} l_{1} \\sin{\\left(d_{1} \\right)} - \\dot{d_2}^{2} x_{2} \\sin{\\left(d_{2} \\right)}\\right) + m_{3} r \\left(\\ddot{b} r + \\ddot{d_1} l_{1} \\cos{\\left(d_{1} \\right)} + \\ddot{d_2} l_{2} \\cos{\\left(d_{2} \\right)} + \\ddot{d_3} x_{3} \\cos{\\left(d_{3} \\right)} - \\dot{d_1}^{2} l_{1} \\sin{\\left(d_{1} \\right)} - \\dot{d_2}^{2} l_{2} \\sin{\\left(d_{2} \\right)} - \\dot{d_3}^{2} x_{3} \\sin{\\left(d_{3} \\right)}\\right)$"
      ],
      "text/plain": [
       "I_b*\\ddot{b} + \\ddot{b}*m*r**2 + b_f*(b - q) + m1*r*(\\ddot{b}*r + \\ddot{d_1}*x1*cos(d_1) - \\dot{d_1}**2*x1*sin(d_1)) + m2*r*(\\ddot{b}*r + \\ddot{d_1}*l1*cos(d_1) + \\ddot{d_2}*x2*cos(d_2) - \\dot{d_1}**2*l1*sin(d_1) - \\dot{d_2}**2*x2*sin(d_2)) + m3*r*(\\ddot{b}*r + \\ddot{d_1}*l1*cos(d_1) + \\ddot{d_2}*l2*cos(d_2) + \\ddot{d_3}*x3*cos(d_3) - \\dot{d_1}**2*l1*sin(d_1) - \\dot{d_2}**2*l2*sin(d_2) - \\dot{d_3}**2*x3*sin(d_3))"
      ]
     },
     "execution_count": 8,
     "metadata": {},
     "output_type": "execute_result"
    }
   ],
   "source": [
    "e0 = remove_time(simplify(diff(diff(lagrange(), rubber_vel), t) - diff(lagrange(), rubber_pos)))\n",
    "e0"
   ]
  },
  {
   "cell_type": "code",
   "execution_count": 9,
   "id": "1656d6c8",
   "metadata": {},
   "outputs": [
    {
     "data": {
      "text/latex": [
       "$\\displaystyle I_{w} \\ddot{q} - b_{f} \\left(b - q\\right)$"
      ],
      "text/plain": [
       "I_w*\\ddot{q} - b_f*(b - q)"
      ]
     },
     "execution_count": 9,
     "metadata": {},
     "output_type": "execute_result"
    }
   ],
   "source": [
    "e1 = remove_time(simplify(diff(diff(lagrange(), wheel_vel), t) - diff(lagrange(), wheel_pos)))\n",
    "e1"
   ]
  },
  {
   "cell_type": "code",
   "execution_count": 10,
   "id": "65cee950",
   "metadata": {},
   "outputs": [
    {
     "data": {
      "text/latex": [
       "$\\displaystyle I_{1} \\ddot{d_1} + \\ddot{b} l_{1} m_{2} r \\cos{\\left(d_{1} \\right)} + \\ddot{b} l_{1} m_{3} r \\cos{\\left(d_{1} \\right)} + \\ddot{b} m_{1} r x_{1} \\cos{\\left(d_{1} \\right)} + \\ddot{d_1} l_{1}^{2} m_{2} + \\ddot{d_1} l_{1}^{2} m_{3} + \\ddot{d_1} m_{1} x_{1}^{2} + \\ddot{d_2} l_{1} l_{2} m_{3} \\cos{\\left(d_{1} - d_{2} \\right)} + \\ddot{d_2} l_{1} m_{2} x_{2} \\cos{\\left(d_{1} - d_{2} \\right)} + \\ddot{d_3} l_{1} m_{3} x_{3} \\cos{\\left(d_{1} - d_{3} \\right)} + \\dot{d_2}^{2} l_{1} l_{2} m_{3} \\sin{\\left(d_{1} - d_{2} \\right)} + \\dot{d_2}^{2} l_{1} m_{2} x_{2} \\sin{\\left(d_{1} - d_{2} \\right)} + \\dot{d_3}^{2} l_{1} m_{3} x_{3} \\sin{\\left(d_{1} - d_{3} \\right)} - g l_{1} m_{2} \\sin{\\left(d_{1} \\right)} - g l_{1} m_{3} \\sin{\\left(d_{1} \\right)} - g m_{1} x_{1} \\sin{\\left(d_{1} \\right)}$"
      ],
      "text/plain": [
       "I1*\\ddot{d_1} + \\ddot{b}*l1*m2*r*cos(d_1) + \\ddot{b}*l1*m3*r*cos(d_1) + \\ddot{b}*m1*r*x1*cos(d_1) + \\ddot{d_1}*l1**2*m2 + \\ddot{d_1}*l1**2*m3 + \\ddot{d_1}*m1*x1**2 + \\ddot{d_2}*l1*l2*m3*cos(d_1 - d_2) + \\ddot{d_2}*l1*m2*x2*cos(d_1 - d_2) + \\ddot{d_3}*l1*m3*x3*cos(d_1 - d_3) + \\dot{d_2}**2*l1*l2*m3*sin(d_1 - d_2) + \\dot{d_2}**2*l1*m2*x2*sin(d_1 - d_2) + \\dot{d_3}**2*l1*m3*x3*sin(d_1 - d_3) - g*l1*m2*sin(d_1) - g*l1*m3*sin(d_1) - g*m1*x1*sin(d_1)"
      ]
     },
     "execution_count": 10,
     "metadata": {},
     "output_type": "execute_result"
    }
   ],
   "source": [
    "e2 = remove_time(simplify(diff(diff(lagrange(), theta1_vel), t) - diff(lagrange(), theta1)))\n",
    "e2"
   ]
  },
  {
   "cell_type": "code",
   "execution_count": 11,
   "id": "8f8bb534",
   "metadata": {},
   "outputs": [
    {
     "data": {
      "text/latex": [
       "$\\displaystyle I_{2} \\ddot{d_2} + \\ddot{b} l_{2} m_{3} r \\cos{\\left(d_{2} \\right)} + \\ddot{b} m_{2} r x_{2} \\cos{\\left(d_{2} \\right)} + \\ddot{d_1} l_{1} l_{2} m_{3} \\cos{\\left(d_{1} - d_{2} \\right)} + \\ddot{d_1} l_{1} m_{2} x_{2} \\cos{\\left(d_{1} - d_{2} \\right)} + \\ddot{d_2} l_{2}^{2} m_{3} + \\ddot{d_2} m_{2} x_{2}^{2} + \\ddot{d_3} l_{2} m_{3} x_{3} \\cos{\\left(d_{2} - d_{3} \\right)} - \\dot{d_1}^{2} l_{1} l_{2} m_{3} \\sin{\\left(d_{1} - d_{2} \\right)} - \\dot{d_1}^{2} l_{1} m_{2} x_{2} \\sin{\\left(d_{1} - d_{2} \\right)} + \\dot{d_3}^{2} l_{2} m_{3} x_{3} \\sin{\\left(d_{2} - d_{3} \\right)} - g l_{2} m_{3} \\sin{\\left(d_{2} \\right)} - g m_{2} x_{2} \\sin{\\left(d_{2} \\right)}$"
      ],
      "text/plain": [
       "I2*\\ddot{d_2} + \\ddot{b}*l2*m3*r*cos(d_2) + \\ddot{b}*m2*r*x2*cos(d_2) + \\ddot{d_1}*l1*l2*m3*cos(d_1 - d_2) + \\ddot{d_1}*l1*m2*x2*cos(d_1 - d_2) + \\ddot{d_2}*l2**2*m3 + \\ddot{d_2}*m2*x2**2 + \\ddot{d_3}*l2*m3*x3*cos(d_2 - d_3) - \\dot{d_1}**2*l1*l2*m3*sin(d_1 - d_2) - \\dot{d_1}**2*l1*m2*x2*sin(d_1 - d_2) + \\dot{d_3}**2*l2*m3*x3*sin(d_2 - d_3) - g*l2*m3*sin(d_2) - g*m2*x2*sin(d_2)"
      ]
     },
     "execution_count": 11,
     "metadata": {},
     "output_type": "execute_result"
    }
   ],
   "source": [
    "e3 = remove_time(simplify(diff(diff(lagrange(), theta2_vel), t) - diff(lagrange(), theta2)))\n",
    "e3"
   ]
  },
  {
   "cell_type": "code",
   "execution_count": 12,
   "id": "3950acb4",
   "metadata": {
    "scrolled": true
   },
   "outputs": [
    {
     "data": {
      "text/latex": [
       "$\\displaystyle I_{3} \\ddot{d_3} + \\ddot{b} m_{3} r x_{3} \\cos{\\left(d_{3} \\right)} + \\ddot{d_1} l_{1} m_{3} x_{3} \\cos{\\left(d_{1} - d_{3} \\right)} + \\ddot{d_2} l_{2} m_{3} x_{3} \\cos{\\left(d_{2} - d_{3} \\right)} + \\ddot{d_3} m_{3} x_{3}^{2} - \\dot{d_1}^{2} l_{1} m_{3} x_{3} \\sin{\\left(d_{1} - d_{3} \\right)} - \\dot{d_2}^{2} l_{2} m_{3} x_{3} \\sin{\\left(d_{2} - d_{3} \\right)} - g m_{3} x_{3} \\sin{\\left(d_{3} \\right)}$"
      ],
      "text/plain": [
       "I3*\\ddot{d_3} + \\ddot{b}*m3*r*x3*cos(d_3) + \\ddot{d_1}*l1*m3*x3*cos(d_1 - d_3) + \\ddot{d_2}*l2*m3*x3*cos(d_2 - d_3) + \\ddot{d_3}*m3*x3**2 - \\dot{d_1}**2*l1*m3*x3*sin(d_1 - d_3) - \\dot{d_2}**2*l2*m3*x3*sin(d_2 - d_3) - g*m3*x3*sin(d_3)"
      ]
     },
     "execution_count": 12,
     "metadata": {},
     "output_type": "execute_result"
    }
   ],
   "source": [
    "e4 = remove_time(simplify(diff(diff(lagrange(), theta3_vel), t) - diff(lagrange(), theta3)))\n",
    "e4"
   ]
  },
  {
   "cell_type": "code",
   "execution_count": null,
   "id": "a3791e71",
   "metadata": {},
   "outputs": [],
   "source": []
  },
  {
   "cell_type": "code",
   "execution_count": 13,
   "id": "3230d2a7",
   "metadata": {},
   "outputs": [],
   "source": [
    "#a, b = sympy.linear_eq_to_matrix([e2, e3], [remove_time(x) for x in [theta1_acc, theta2_acc]])\n",
    "#a, b = sympy.linear_eq_to_matrix([e1, e2, e3], [remove_time(x) for x in [cart_acc, theta1_acc, theta2_acc]])\n",
    "#a, b = sympy.linear_eq_to_matrix([e2, e3, e4], [remove_time(x) for x in [theta1_acc, theta2_acc, theta3_acc]])\n",
    "#a, b = sympy.linear_eq_to_matrix([e1, e2, e3, e4], [remove_time(x) for x in [wheel_acc, theta1_acc, theta2_acc, theta3_acc]])\n",
    "a, b = sympy.linear_eq_to_matrix([e0, e1, e2, e3, e4], [remove_time(x) for x in [rubber_acc, wheel_acc, theta1_acc, theta2_acc, theta3_acc]])"
   ]
  },
  {
   "cell_type": "code",
   "execution_count": 14,
   "id": "6f0d5bef",
   "metadata": {},
   "outputs": [
    {
     "data": {
      "text/latex": [
       "$\\displaystyle \\left[\\begin{matrix}I_{b} + m r^{2} + m_{1} r^{2} + m_{2} r^{2} + m_{3} r^{2} & 0 & r \\left(l_{1} m_{2} + l_{1} m_{3} + m_{1} x_{1}\\right) \\cos{\\left(d_{1} \\right)} & r \\left(l_{2} m_{3} + m_{2} x_{2}\\right) \\cos{\\left(d_{2} \\right)} & m_{3} r x_{3} \\cos{\\left(d_{3} \\right)}\\\\0 & I_{w} & 0 & 0 & 0\\\\r \\left(l_{1} m_{2} + l_{1} m_{3} + m_{1} x_{1}\\right) \\cos{\\left(d_{1} \\right)} & 0 & I_{1} + l_{1}^{2} m_{2} + l_{1}^{2} m_{3} + m_{1} x_{1}^{2} & l_{1} \\left(l_{2} m_{3} + m_{2} x_{2}\\right) \\cos{\\left(d_{1} - d_{2} \\right)} & l_{1} m_{3} x_{3} \\cos{\\left(d_{1} - d_{3} \\right)}\\\\r \\left(l_{2} m_{3} + m_{2} x_{2}\\right) \\cos{\\left(d_{2} \\right)} & 0 & l_{1} \\left(l_{2} m_{3} + m_{2} x_{2}\\right) \\cos{\\left(d_{1} - d_{2} \\right)} & I_{2} + l_{2}^{2} m_{3} + m_{2} x_{2}^{2} & l_{2} m_{3} x_{3} \\cos{\\left(d_{2} - d_{3} \\right)}\\\\m_{3} r x_{3} \\cos{\\left(d_{3} \\right)} & 0 & l_{1} m_{3} x_{3} \\cos{\\left(d_{1} - d_{3} \\right)} & l_{2} m_{3} x_{3} \\cos{\\left(d_{2} - d_{3} \\right)} & I_{3} + m_{3} x_{3}^{2}\\end{matrix}\\right]$"
      ],
      "text/plain": [
       "Matrix([\n",
       "[I_b + m*r**2 + m1*r**2 + m2*r**2 + m3*r**2,   0,  r*(l1*m2 + l1*m3 + m1*x1)*cos(d_1),        r*(l2*m3 + m2*x2)*cos(d_2),        m3*r*x3*cos(d_3)],\n",
       "[                                         0, I_w,                                   0,                                 0,                       0],\n",
       "[        r*(l1*m2 + l1*m3 + m1*x1)*cos(d_1),   0, I1 + l1**2*m2 + l1**2*m3 + m1*x1**2, l1*(l2*m3 + m2*x2)*cos(d_1 - d_2), l1*m3*x3*cos(d_1 - d_3)],\n",
       "[                r*(l2*m3 + m2*x2)*cos(d_2),   0,   l1*(l2*m3 + m2*x2)*cos(d_1 - d_2),          I2 + l2**2*m3 + m2*x2**2, l2*m3*x3*cos(d_2 - d_3)],\n",
       "[                          m3*r*x3*cos(d_3),   0,             l1*m3*x3*cos(d_1 - d_3),           l2*m3*x3*cos(d_2 - d_3),           I3 + m3*x3**2]])"
      ]
     },
     "execution_count": 14,
     "metadata": {},
     "output_type": "execute_result"
    }
   ],
   "source": [
    "simplify(a)"
   ]
  },
  {
   "cell_type": "code",
   "execution_count": 15,
   "id": "965faaf5",
   "metadata": {},
   "outputs": [
    {
     "data": {
      "text/latex": [
       "$\\displaystyle \\left[\\begin{matrix}\\dot{d_1}^{2} m_{1} r x_{1} \\sin{\\left(d_{1} \\right)} - b_{f} \\left(b - q\\right) + m_{2} r \\left(\\dot{d_1}^{2} l_{1} \\sin{\\left(d_{1} \\right)} + \\dot{d_2}^{2} x_{2} \\sin{\\left(d_{2} \\right)}\\right) + m_{3} r \\left(\\dot{d_1}^{2} l_{1} \\sin{\\left(d_{1} \\right)} + \\dot{d_2}^{2} l_{2} \\sin{\\left(d_{2} \\right)} + \\dot{d_3}^{2} x_{3} \\sin{\\left(d_{3} \\right)}\\right)\\\\b_{f} \\left(b - q\\right)\\\\- \\dot{d_2}^{2} l_{1} l_{2} m_{3} \\sin{\\left(d_{1} - d_{2} \\right)} - \\dot{d_2}^{2} l_{1} m_{2} x_{2} \\sin{\\left(d_{1} - d_{2} \\right)} - \\dot{d_3}^{2} l_{1} m_{3} x_{3} \\sin{\\left(d_{1} - d_{3} \\right)} + g l_{1} m_{2} \\sin{\\left(d_{1} \\right)} + g l_{1} m_{3} \\sin{\\left(d_{1} \\right)} + g m_{1} x_{1} \\sin{\\left(d_{1} \\right)}\\\\\\dot{d_1}^{2} l_{1} l_{2} m_{3} \\sin{\\left(d_{1} - d_{2} \\right)} + \\dot{d_1}^{2} l_{1} m_{2} x_{2} \\sin{\\left(d_{1} - d_{2} \\right)} - \\dot{d_3}^{2} l_{2} m_{3} x_{3} \\sin{\\left(d_{2} - d_{3} \\right)} + g l_{2} m_{3} \\sin{\\left(d_{2} \\right)} + g m_{2} x_{2} \\sin{\\left(d_{2} \\right)}\\\\m_{3} x_{3} \\left(\\dot{d_1}^{2} l_{1} \\sin{\\left(d_{1} - d_{3} \\right)} + \\dot{d_2}^{2} l_{2} \\sin{\\left(d_{2} - d_{3} \\right)} + g \\sin{\\left(d_{3} \\right)}\\right)\\end{matrix}\\right]$"
      ],
      "text/plain": [
       "Matrix([\n",
       "[\\dot{d_1}**2*m1*r*x1*sin(d_1) - b_f*(b - q) + m2*r*(\\dot{d_1}**2*l1*sin(d_1) + \\dot{d_2}**2*x2*sin(d_2)) + m3*r*(\\dot{d_1}**2*l1*sin(d_1) + \\dot{d_2}**2*l2*sin(d_2) + \\dot{d_3}**2*x3*sin(d_3))],\n",
       "[                                                                                                                                                                                     b_f*(b - q)],\n",
       "[                    -\\dot{d_2}**2*l1*l2*m3*sin(d_1 - d_2) - \\dot{d_2}**2*l1*m2*x2*sin(d_1 - d_2) - \\dot{d_3}**2*l1*m3*x3*sin(d_1 - d_3) + g*l1*m2*sin(d_1) + g*l1*m3*sin(d_1) + g*m1*x1*sin(d_1)],\n",
       "[                                        \\dot{d_1}**2*l1*l2*m3*sin(d_1 - d_2) + \\dot{d_1}**2*l1*m2*x2*sin(d_1 - d_2) - \\dot{d_3}**2*l2*m3*x3*sin(d_2 - d_3) + g*l2*m3*sin(d_2) + g*m2*x2*sin(d_2)],\n",
       "[                                                                                                            m3*x3*(\\dot{d_1}**2*l1*sin(d_1 - d_3) + \\dot{d_2}**2*l2*sin(d_2 - d_3) + g*sin(d_3))]])"
      ]
     },
     "execution_count": 15,
     "metadata": {},
     "output_type": "execute_result"
    }
   ],
   "source": [
    "simplify(b)"
   ]
  },
  {
   "cell_type": "code",
   "execution_count": 16,
   "id": "d59b4dcd",
   "metadata": {},
   "outputs": [],
   "source": [
    "#simplify(a.det())"
   ]
  },
  {
   "cell_type": "code",
   "execution_count": null,
   "id": "e898d792",
   "metadata": {},
   "outputs": [],
   "source": []
  },
  {
   "cell_type": "code",
   "execution_count": null,
   "id": "6b79fd30",
   "metadata": {},
   "outputs": [],
   "source": []
  },
  {
   "cell_type": "code",
   "execution_count": null,
   "id": "2d0f01fb",
   "metadata": {},
   "outputs": [],
   "source": []
  },
  {
   "cell_type": "code",
   "execution_count": null,
   "id": "5bc7d79f",
   "metadata": {},
   "outputs": [],
   "source": []
  },
  {
   "cell_type": "code",
   "execution_count": null,
   "id": "d0f6ec52",
   "metadata": {},
   "outputs": [],
   "source": []
  },
  {
   "cell_type": "code",
   "execution_count": null,
   "id": "fa517a76",
   "metadata": {},
   "outputs": [],
   "source": []
  },
  {
   "cell_type": "code",
   "execution_count": null,
   "id": "1790eef4",
   "metadata": {},
   "outputs": [],
   "source": []
  },
  {
   "cell_type": "code",
   "execution_count": null,
   "id": "c264d041",
   "metadata": {},
   "outputs": [],
   "source": []
  },
  {
   "cell_type": "code",
   "execution_count": null,
   "id": "357f7fa1",
   "metadata": {},
   "outputs": [],
   "source": []
  },
  {
   "cell_type": "code",
   "execution_count": null,
   "id": "854eef0c",
   "metadata": {},
   "outputs": [],
   "source": []
  },
  {
   "cell_type": "code",
   "execution_count": null,
   "id": "59dc32df",
   "metadata": {},
   "outputs": [],
   "source": []
  },
  {
   "cell_type": "code",
   "execution_count": null,
   "id": "fc198ccd",
   "metadata": {},
   "outputs": [],
   "source": []
  }
 ],
 "metadata": {
  "kernelspec": {
   "display_name": "Python 3 (ipykernel)",
   "language": "python",
   "name": "python3"
  },
  "language_info": {
   "codemirror_mode": {
    "name": "ipython",
    "version": 3
   },
   "file_extension": ".py",
   "mimetype": "text/x-python",
   "name": "python",
   "nbconvert_exporter": "python",
   "pygments_lexer": "ipython3",
   "version": "3.10.14"
  }
 },
 "nbformat": 4,
 "nbformat_minor": 5
}
