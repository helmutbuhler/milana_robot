{
 "cells": [
  {
   "cell_type": "markdown",
   "id": "65b735a4",
   "metadata": {},
   "source": [
    "# Euler-Lagrangian of a Cartpole on a Wheel"
   ]
  },
  {
   "cell_type": "code",
   "execution_count": 1,
   "id": "d6610f34",
   "metadata": {},
   "outputs": [],
   "source": [
    "from sympy import symbols, diff, simplify, Function\n",
    "from sympy import sin, cos\n",
    "import sympy"
   ]
  },
  {
   "cell_type": "code",
   "execution_count": 2,
   "id": "7e9c5b6c",
   "metadata": {},
   "outputs": [],
   "source": [
    "# Define symbols of variables that we need to model our simulated physics model.\n",
    "t = symbols('t')\n",
    "gravity = symbols('g')\n",
    "l1 = symbols('l1') # length of pole\n",
    "x1 = symbols('x1') # Distance of center of mass of the pole from the center of the wheel\n",
    "m1 = symbols('m1') # mass of pole\n",
    "I1 = symbols('I1') # Inertia\n",
    "wheel_mass = symbols(\"m\")\n",
    "wheel_inertia = symbols(\"I_w\")\n",
    "r = symbols('r') # radius of wheel\n",
    "\n",
    "wheel_pos = Function('w')(t)\n",
    "wheel_vel = diff(wheel_pos, t)\n",
    "wheel_acc = diff(wheel_vel, t)\n",
    "theta1 = Function('theta_1')(t)\n",
    "theta1_vel = diff(theta1, t)\n",
    "theta1_acc = diff(theta1_vel, t)\n"
   ]
  },
  {
   "cell_type": "code",
   "execution_count": 6,
   "id": "619c2b10",
   "metadata": {},
   "outputs": [],
   "source": [
    "# Define duplicate of symbols for better rendering where derivatives of time are displayed with a dot above the symbol\n",
    "# Kind of a hack, can probably be simplified\n",
    "wheel_pos_ = symbols('q')\n",
    "wheel_vel_ = symbols(\"\\\\dot{q}\")\n",
    "wheel_acc_ = symbols(\"\\\\ddot{q}\")\n",
    "theta1_ = symbols(\"d_1\")\n",
    "theta1_vel_ = symbols(\"\\\\dot{d_1}\")\n",
    "theta1_acc_ = symbols(\"\\\\ddot{d_1}\")\n",
    "def remove_time(v):\n",
    "    return v.subs([\n",
    "        (wheel_acc, wheel_acc_),\n",
    "        (wheel_vel, wheel_vel_),\n",
    "        (wheel_pos, wheel_pos_),\n",
    "        (theta1_acc, theta1_acc_),\n",
    "        (theta1_vel, theta1_vel_),\n",
    "        (theta1, theta1_),\n",
    "    ])"
   ]
  },
  {
   "cell_type": "code",
   "execution_count": 7,
   "id": "c243d285",
   "metadata": {},
   "outputs": [
    {
     "data": {
      "text/latex": [
       "$\\displaystyle \\theta_{1}{\\left(t \\right)} + w{\\left(t \\right)} + \\frac{d}{d t} \\theta_{1}{\\left(t \\right)} + \\frac{d^{2}}{d t^{2}} \\theta_{1}{\\left(t \\right)} + \\frac{d}{d t} w{\\left(t \\right)} + \\frac{d^{2}}{d t^{2}} w{\\left(t \\right)}$"
      ],
      "text/plain": [
       "theta_1(t) + w(t) + Derivative(theta_1(t), t) + Derivative(theta_1(t), (t, 2)) + Derivative(w(t), t) + Derivative(w(t), (t, 2))"
      ]
     },
     "execution_count": 7,
     "metadata": {},
     "output_type": "execute_result"
    }
   ],
   "source": [
    "# Test display:\n",
    "x = theta1 + theta1_vel + theta1_acc + wheel_pos + wheel_vel + wheel_acc\n",
    "x"
   ]
  },
  {
   "cell_type": "code",
   "execution_count": 8,
   "id": "cfaeff33",
   "metadata": {},
   "outputs": [
    {
     "data": {
      "text/latex": [
       "$\\displaystyle \\ddot{d_1} + \\ddot{q} + \\dot{d_1} + \\dot{q} + d_{1} + q$"
      ],
      "text/plain": [
       "\\ddot{d_1} + \\ddot{q} + \\dot{d_1} + \\dot{q} + d_1 + q"
      ]
     },
     "execution_count": 8,
     "metadata": {},
     "output_type": "execute_result"
    }
   ],
   "source": [
    "remove_time(x)"
   ]
  },
  {
   "cell_type": "markdown",
   "id": "e8369c58",
   "metadata": {},
   "source": [
    "## Define Lagrangian"
   ]
  },
  {
   "cell_type": "code",
   "execution_count": 9,
   "id": "91227dd1",
   "metadata": {},
   "outputs": [],
   "source": [
    "# This is the only thing we need to define to calculate the update matrix.\n",
    "# It's Kinetic Energy minus Potential Energy\n",
    "def sq(v):\n",
    "    return v**2\n",
    "def lagrange():\n",
    "    kinE = 0\n",
    "    kinE += wheel_mass * sq(wheel_vel*r)\n",
    "    kinE += m1 * (sq(wheel_vel*r + x1*theta1_vel*cos(theta1)) + sq(x1*theta1_vel*sin(theta1)))\n",
    "    kinE += wheel_inertia * sq(wheel_vel)\n",
    "    kinE += I1 * sq(theta1_vel)\n",
    "    kinE /= 2\n",
    "    potE = gravity * (m1*x1*cos(theta1))\n",
    "\n",
    "    return kinE-potE"
   ]
  },
  {
   "cell_type": "code",
   "execution_count": 10,
   "id": "f068c89e",
   "metadata": {},
   "outputs": [
    {
     "data": {
      "text/latex": [
       "$\\displaystyle \\frac{I_{1} \\dot{d_1}^{2}}{2} + \\frac{I_{w} \\dot{q}^{2}}{2} + \\frac{\\dot{q}^{2} m r^{2}}{2} - g m_{1} x_{1} \\cos{\\left(d_{1} \\right)} + \\frac{m_{1} \\left(\\dot{d_1}^{2} x_{1}^{2} \\sin^{2}{\\left(d_{1} \\right)} + \\left(\\dot{d_1} x_{1} \\cos{\\left(d_{1} \\right)} + \\dot{q} r\\right)^{2}\\right)}{2}$"
      ],
      "text/plain": [
       "I1*\\dot{d_1}**2/2 + I_w*\\dot{q}**2/2 + \\dot{q}**2*m*r**2/2 - g*m1*x1*cos(d_1) + m1*(\\dot{d_1}**2*x1**2*sin(d_1)**2 + (\\dot{d_1}*x1*cos(d_1) + \\dot{q}*r)**2)/2"
      ]
     },
     "execution_count": 10,
     "metadata": {},
     "output_type": "execute_result"
    }
   ],
   "source": [
    "remove_time(lagrange())"
   ]
  },
  {
   "cell_type": "markdown",
   "id": "8b88aba4",
   "metadata": {},
   "source": [
    "Now we use the automatic differentiation of sympy to do all the dirty work:"
   ]
  },
  {
   "cell_type": "code",
   "execution_count": 13,
   "id": "1656d6c8",
   "metadata": {},
   "outputs": [
    {
     "data": {
      "text/latex": [
       "$\\displaystyle I_{w} \\ddot{q} + \\ddot{q} m r^{2} + m_{1} r \\left(\\ddot{d_1} x_{1} \\cos{\\left(d_{1} \\right)} + \\ddot{q} r - \\dot{d_1}^{2} x_{1} \\sin{\\left(d_{1} \\right)}\\right)$"
      ],
      "text/plain": [
       "I_w*\\ddot{q} + \\ddot{q}*m*r**2 + m1*r*(\\ddot{d_1}*x1*cos(d_1) + \\ddot{q}*r - \\dot{d_1}**2*x1*sin(d_1))"
      ]
     },
     "execution_count": 13,
     "metadata": {},
     "output_type": "execute_result"
    }
   ],
   "source": [
    "e1 = remove_time(simplify(diff(diff(lagrange(), wheel_vel), t) - diff(lagrange(), wheel_pos)))\n",
    "e1"
   ]
  },
  {
   "cell_type": "code",
   "execution_count": 14,
   "id": "65cee950",
   "metadata": {},
   "outputs": [
    {
     "data": {
      "text/latex": [
       "$\\displaystyle I_{1} \\ddot{d_1} + \\ddot{d_1} m_{1} x_{1}^{2} + \\ddot{q} m_{1} r x_{1} \\cos{\\left(d_{1} \\right)} - g m_{1} x_{1} \\sin{\\left(d_{1} \\right)}$"
      ],
      "text/plain": [
       "I1*\\ddot{d_1} + \\ddot{d_1}*m1*x1**2 + \\ddot{q}*m1*r*x1*cos(d_1) - g*m1*x1*sin(d_1)"
      ]
     },
     "execution_count": 14,
     "metadata": {},
     "output_type": "execute_result"
    }
   ],
   "source": [
    "e2 = remove_time(simplify(diff(diff(lagrange(), theta1_vel), t) - diff(lagrange(), theta1)))\n",
    "e2"
   ]
  },
  {
   "cell_type": "code",
   "execution_count": 15,
   "id": "3230d2a7",
   "metadata": {},
   "outputs": [],
   "source": [
    "a, b = sympy.linear_eq_to_matrix([e1, e2], [remove_time(x) for x in [wheel_acc, theta1_acc]])"
   ]
  },
  {
   "cell_type": "markdown",
   "id": "ece5b6e6",
   "metadata": {},
   "source": [
    "And just like that we get a and b.\n",
    "\n",
    "a and b is the system of linear equations that is solved at runtime to calculate the acceleration of the relevant variables (wheel position and pole angle in this case):\n",
    "\n",
    "They are directly copied into code in `pendulum_simulation.cpp`"
   ]
  },
  {
   "cell_type": "code",
   "execution_count": 16,
   "id": "6f0d5bef",
   "metadata": {},
   "outputs": [
    {
     "data": {
      "text/latex": [
       "$\\displaystyle \\left[\\begin{matrix}I_{w} + m r^{2} + m_{1} r^{2} & m_{1} r x_{1} \\cos{\\left(d_{1} \\right)}\\\\m_{1} r x_{1} \\cos{\\left(d_{1} \\right)} & I_{1} + m_{1} x_{1}^{2}\\end{matrix}\\right]$"
      ],
      "text/plain": [
       "Matrix([\n",
       "[I_w + m*r**2 + m1*r**2, m1*r*x1*cos(d_1)],\n",
       "[      m1*r*x1*cos(d_1),    I1 + m1*x1**2]])"
      ]
     },
     "execution_count": 16,
     "metadata": {},
     "output_type": "execute_result"
    }
   ],
   "source": [
    "simplify(a)"
   ]
  },
  {
   "cell_type": "code",
   "execution_count": 17,
   "id": "965faaf5",
   "metadata": {},
   "outputs": [
    {
     "data": {
      "text/latex": [
       "$\\displaystyle \\left[\\begin{matrix}\\dot{d_1}^{2} m_{1} r x_{1} \\sin{\\left(d_{1} \\right)}\\\\g m_{1} x_{1} \\sin{\\left(d_{1} \\right)}\\end{matrix}\\right]$"
      ],
      "text/plain": [
       "Matrix([\n",
       "[\\dot{d_1}**2*m1*r*x1*sin(d_1)],\n",
       "[             g*m1*x1*sin(d_1)]])"
      ]
     },
     "execution_count": 17,
     "metadata": {},
     "output_type": "execute_result"
    }
   ],
   "source": [
    "simplify(b)"
   ]
  },
  {
   "cell_type": "code",
   "execution_count": 21,
   "id": "e898d792",
   "metadata": {},
   "outputs": [
    {
     "data": {
      "text/latex": [
       "$\\displaystyle I_{1} I_{w} + I_{1} m r^{2} + I_{1} m_{1} r^{2} + I_{w} m_{1} x_{1}^{2} + m m_{1} r^{2} x_{1}^{2} + m_{1}^{2} r^{2} x_{1}^{2} \\sin^{2}{\\left(d_{1} \\right)}$"
      ],
      "text/plain": [
       "I1*I_w + I1*m*r**2 + I1*m1*r**2 + I_w*m1*x1**2 + m*m1*r**2*x1**2 + m1**2*r**2*x1**2*sin(d_1)**2"
      ]
     },
     "execution_count": 21,
     "metadata": {},
     "output_type": "execute_result"
    }
   ],
   "source": [
    "# We can also see here that the determinate of Matrix a is never 0.\n",
    "# That means it can always be solved.\n",
    "simplify(a.det())"
   ]
  },
  {
   "cell_type": "code",
   "execution_count": null,
   "id": "6b79fd30",
   "metadata": {},
   "outputs": [],
   "source": []
  },
  {
   "cell_type": "code",
   "execution_count": null,
   "id": "2d0f01fb",
   "metadata": {},
   "outputs": [],
   "source": []
  },
  {
   "cell_type": "code",
   "execution_count": null,
   "id": "5bc7d79f",
   "metadata": {},
   "outputs": [],
   "source": []
  },
  {
   "cell_type": "code",
   "execution_count": null,
   "id": "d0f6ec52",
   "metadata": {},
   "outputs": [],
   "source": []
  },
  {
   "cell_type": "code",
   "execution_count": null,
   "id": "fa517a76",
   "metadata": {},
   "outputs": [],
   "source": []
  },
  {
   "cell_type": "code",
   "execution_count": null,
   "id": "1790eef4",
   "metadata": {},
   "outputs": [],
   "source": []
  },
  {
   "cell_type": "code",
   "execution_count": null,
   "id": "c264d041",
   "metadata": {},
   "outputs": [],
   "source": []
  },
  {
   "cell_type": "code",
   "execution_count": null,
   "id": "357f7fa1",
   "metadata": {},
   "outputs": [],
   "source": []
  },
  {
   "cell_type": "code",
   "execution_count": null,
   "id": "854eef0c",
   "metadata": {},
   "outputs": [],
   "source": []
  },
  {
   "cell_type": "code",
   "execution_count": null,
   "id": "59dc32df",
   "metadata": {},
   "outputs": [],
   "source": []
  },
  {
   "cell_type": "code",
   "execution_count": null,
   "id": "fc198ccd",
   "metadata": {},
   "outputs": [],
   "source": []
  }
 ],
 "metadata": {
  "kernelspec": {
   "display_name": "Python 3 (ipykernel)",
   "language": "python",
   "name": "python3"
  },
  "language_info": {
   "codemirror_mode": {
    "name": "ipython",
    "version": 3
   },
   "file_extension": ".py",
   "mimetype": "text/x-python",
   "name": "python",
   "nbconvert_exporter": "python",
   "pygments_lexer": "ipython3",
   "version": "3.10.14"
  }
 },
 "nbformat": 4,
 "nbformat_minor": 5
}
